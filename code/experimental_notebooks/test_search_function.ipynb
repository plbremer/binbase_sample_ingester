{
 "cells": [
  {
   "cell_type": "code",
   "execution_count": 104,
   "id": "b0400bfc",
   "metadata": {},
   "outputs": [],
   "source": [
    "import time\n",
    "import json\n",
    "import nltk\n",
    "import sklearn\n",
    "from nltk.util import ngrams\n",
    "from nltk.util import trigrams\n",
    "from sklearn.feature_extraction.text import TfidfVectorizer\n",
    "import nmslib\n",
    "import numpy as np\n",
    "import scipy\n",
    "import matplotlib.pyplot as plt\n",
    "import pandas as pd\n",
    "#from scipy.sparse.csr_matrix import todense"
   ]
  },
  {
   "cell_type": "code",
   "execution_count": 105,
   "id": "a5fce8bc",
   "metadata": {},
   "outputs": [],
   "source": [
    "#my_doc_list=['root', 'eubacteria', 'Bacteria', 'cellular organisms', 'Azorhizobium', 'Xanthobacteraceae', 'Azorhizobium caulinodans', 'Buchnera aphidicola', 'aphid P-endosymbionts', 'Buchnera', 'Cellvibrio', 'Cellvibrionaceae', 'Cellulomonas gilvus', 'Cellulomonas', 'Dictyoglomus', 'Dictyoglomaceae', 'Dictyoglomus thermophilum', 'Methylophilus', 'Methylophilaceae', 'Methylophilus methylotrophus', 'Pelobacter', 'Desulfuromonadaceae', 'Syntrophotalea carbinolica', 'Syntrophotalea', 'Phenylobacterium', 'Caulobacteraceae', 'Phenylobacterium immobile', 'Shewanella', 'Shewanellaceae', 'Shewanella colwelliana', 'Shewanella putrefaciens', 'Shewanella hanedai', 'halophilic eubacterium NRCC 41227', 'unclassified Bacteria', 'halophilic eubacterium', 'fruiting gliding bacteria', 'Myxococcales', 'Deltaproteobacteria', 'Myxococcaceae', 'Cystobacterineae', 'Myxococcus', 'Myxococcus fulvus', 'Myxococcus xanthus', 'Corallococcus macrosporus', 'Corallococcus', 'Archangium disciforme', 'Archangium', 'Archangiaceae', 'Stigmatella', 'Stigmatella aurantiaca', 'Cystobacter', 'Cystobacter fuscus', 'Melittangium', 'Melittangium lichenicola', 'Archangium gephyra', 'Polyangiaceae', 'Sorangiineae', 'Chondromyces', 'Chondromyces apiculatus', 'Chondromyces crocatus', 'Nannocystis', 'Nannocystaceae', 'Nannocystis exedens', 'Polyangium', 'Sorangium cellulosum', 'Sorangium', 'Polyangium sp.', 'unclassified Polyangium', 'Vitreoscilla', 'Neisseriaceae', 'Vitreoscilla sp.', 'unclassified Vitreoscilla', 'Vitreoscilla stercoraria', 'Vitreoscilla beggiatoides', 'Vitreoscilla filiformis', 'Herpetosiphon', 'Herpetosiphonaceae', 'Herpetosiphon aurantiacus', 'Lysobacter', 'Xanthomonadaceae', 'Lysobacter enzymogenes', 'Simonsiella', 'Simonsiella muelleri', 'Scheibenbakterien Muller 1911', 'Scheibenbakterien', 'Caulobacter', 'Caulobacter sp.', 'unclassified Caulobacter', 'Hyphomicrobium', 'Hyphomicrobiaceae', 'Hyphomicrobium sp.', 'unclassified Hyphomicrobium', 'Hyphomicrobium vulgare', 'Hyphomicrobium methylovorum', 'Hyphomonas', 'Hyphomonadaceae', 'Hyphomonas jannaschiana', 'Hyphomonas sp.', 'unclassified Hyphomonas', 'Leptothrix', 'Burkholderiales genera incertae sedis', 'Leptothrix discophora', 'Stella', 'Stellaceae', 'Stella humosa', 'Gallionella', 'Gallionellaceae', 'iron bacteria']"
   ]
  },
  {
   "cell_type": "code",
   "execution_count": 106,
   "id": "975b6737",
   "metadata": {},
   "outputs": [],
   "source": [
    "def convert_nx_nodes_json_to_list(file_name):\n",
    "    my_file=open(file_name,'r')\n",
    "    my_doc_dict=json.load(my_file)\n",
    "    my_file.close()\n",
    "    \n",
    "    my_doc_list_lower=[element.lower() for element in my_doc_dict.keys()]\n",
    "    \n",
    "    return my_doc_list_lower\n",
    "    "
   ]
  },
  {
   "cell_type": "code",
   "execution_count": null,
   "id": "64eae4e1",
   "metadata": {},
   "outputs": [],
   "source": []
  },
  {
   "cell_type": "code",
   "execution_count": 107,
   "id": "8164a4ec",
   "metadata": {},
   "outputs": [],
   "source": [
    "ncbi_list=convert_nx_nodes_json_to_list('small_ncbi_names.json')\n",
    "mesh_list=convert_nx_nodes_json_to_list('mesh_names.json')"
   ]
  },
  {
   "cell_type": "code",
   "execution_count": 108,
   "id": "d303d9fa",
   "metadata": {},
   "outputs": [],
   "source": [
    "my_doc_list_lower=ncbi_list+mesh_list"
   ]
  },
  {
   "cell_type": "code",
   "execution_count": 109,
   "id": "f6d7ef05",
   "metadata": {},
   "outputs": [
    {
     "data": {
      "text/plain": [
       "26041"
      ]
     },
     "execution_count": 109,
     "metadata": {},
     "output_type": "execute_result"
    }
   ],
   "source": [
    "len(mesh_list)"
   ]
  },
  {
   "cell_type": "code",
   "execution_count": 110,
   "id": "6695fe5c",
   "metadata": {},
   "outputs": [
    {
     "data": {
      "text/plain": [
       "2407944"
      ]
     },
     "execution_count": 110,
     "metadata": {},
     "output_type": "execute_result"
    }
   ],
   "source": [
    "len(my_doc_list_lower)"
   ]
  },
  {
   "cell_type": "code",
   "execution_count": 111,
   "id": "5e2a41da",
   "metadata": {},
   "outputs": [],
   "source": [
    "# my_file=open('small_ncbi_names.json','r')\n",
    "# my_doc_dict=json.load(my_file)\n",
    "# my_file.close()"
   ]
  },
  {
   "cell_type": "code",
   "execution_count": 112,
   "id": "14c21cda",
   "metadata": {},
   "outputs": [],
   "source": [
    "# my_doc_dict"
   ]
  },
  {
   "cell_type": "code",
   "execution_count": 113,
   "id": "33cf2889",
   "metadata": {},
   "outputs": [],
   "source": [
    "# my_doc_list=list(my_doc_dict.keys())\n",
    "# my_doc_list"
   ]
  },
  {
   "cell_type": "code",
   "execution_count": null,
   "id": "63aecd5e",
   "metadata": {},
   "outputs": [],
   "source": []
  },
  {
   "cell_type": "code",
   "execution_count": 114,
   "id": "4d2502c9",
   "metadata": {},
   "outputs": [],
   "source": [
    "# my_doc_list_spaces=[' '+element+' ' for element in my_doc_list]"
   ]
  },
  {
   "cell_type": "code",
   "execution_count": 115,
   "id": "3065e52a",
   "metadata": {},
   "outputs": [],
   "source": [
    "# my_doc_list_lower=[element.lower() for element in my_doc_list]"
   ]
  },
  {
   "cell_type": "code",
   "execution_count": 116,
   "id": "9752013f",
   "metadata": {},
   "outputs": [],
   "source": [
    "# my_doc_list_lower"
   ]
  },
  {
   "cell_type": "code",
   "execution_count": 117,
   "id": "dbdcc321",
   "metadata": {},
   "outputs": [],
   "source": [
    "#my_ngrams=[list(ngrams(element,3)) for element in my_doc_list_lower]"
   ]
  },
  {
   "cell_type": "code",
   "execution_count": 118,
   "id": "076d1ee5",
   "metadata": {},
   "outputs": [],
   "source": [
    "#my_ngrams"
   ]
  },
  {
   "cell_type": "code",
   "execution_count": 119,
   "id": "317ff2ca",
   "metadata": {},
   "outputs": [],
   "source": [
    "# def my_ngrams(string, n=3):\n",
    "#     string=fix_text(string)\n",
    "#     string=string.encode(\"ascii\",errors=\"ignore\").decode()\n",
    "# #    string=string.lower()\n",
    "# #     chars_to_remove = [\")\",\"(\",\".\",\"|\",\"[\",\"]\",\"{\",\"}\",\"'\"]\n",
    "# #     rx = '[' + re.escape(''.join(chars_to_remove)) + ']'\n",
    "# #     string = re.sub(rx, '', string) #remove the list of chars defined above\n",
    "# #     string = string.replace('&', 'and')\n",
    "# #     string = string.replace(',', ' ')\n",
    "# #     string = string,replace('-', ' ')\n",
    "# #     string = string.title() # normalise case - capital at start of each word\n",
    "#     string = re.sub(' +',' ', string).strip() # get rid multiple spaces and replace with a single space\n",
    "#     string=' '+string+' '\n",
    "#     print(string)\n",
    "# #     string = re.sub(r'[,-./]|\\sBD',r'',string)\n",
    "# #     ngrams = zip(*[string[i;] for i in range(n)])\n",
    "# #     return [''.join(ngram) for ngram in ngrams]"
   ]
  },
  {
   "cell_type": "code",
   "execution_count": 120,
   "id": "d2d1ab1c",
   "metadata": {},
   "outputs": [],
   "source": [
    "my_TfidfVectorizer=TfidfVectorizer(\n",
    "    analyzer=trigrams,\n",
    "    #max_df=1,\n",
    "    #min_df=0.001\n",
    ")"
   ]
  },
  {
   "cell_type": "code",
   "execution_count": null,
   "id": "8b5b38ee",
   "metadata": {},
   "outputs": [],
   "source": []
  },
  {
   "cell_type": "code",
   "execution_count": 121,
   "id": "8da6ecc1",
   "metadata": {},
   "outputs": [],
   "source": [
    "my_tfidf_matrix=my_TfidfVectorizer.fit_transform(my_doc_list_lower)"
   ]
  },
  {
   "cell_type": "code",
   "execution_count": 122,
   "id": "57e49a63",
   "metadata": {},
   "outputs": [
    {
     "data": {
      "text/plain": [
       "68648"
      ]
     },
     "execution_count": 122,
     "metadata": {},
     "output_type": "execute_result"
    }
   ],
   "source": [
    "len(my_TfidfVectorizer.get_feature_names_out())"
   ]
  },
  {
   "cell_type": "code",
   "execution_count": 123,
   "id": "d5bfffff",
   "metadata": {},
   "outputs": [
    {
     "data": {
      "text/plain": [
       "<2407944x68648 sparse matrix of type '<class 'numpy.float64'>'\n",
       "\twith 57174307 stored elements in Compressed Sparse Row format>"
      ]
     },
     "execution_count": 123,
     "metadata": {},
     "output_type": "execute_result"
    }
   ],
   "source": [
    "my_tfidf_matrix"
   ]
  },
  {
   "cell_type": "code",
   "execution_count": 124,
   "id": "4e6b19ea",
   "metadata": {},
   "outputs": [
    {
     "data": {
      "text/plain": [
       "(2407944, 68648)"
      ]
     },
     "execution_count": 124,
     "metadata": {},
     "output_type": "execute_result"
    }
   ],
   "source": [
    "my_tfidf_matrix.shape"
   ]
  },
  {
   "cell_type": "code",
   "execution_count": 125,
   "id": "92baf81e",
   "metadata": {},
   "outputs": [],
   "source": [
    "#my_tfidf_matrix_stacked=np.vstack(my_tfidf_matrix)"
   ]
  },
  {
   "cell_type": "code",
   "execution_count": 126,
   "id": "bef7c061",
   "metadata": {},
   "outputs": [],
   "source": [
    "#my_tfidf_matrix_stacked[0][0]"
   ]
  },
  {
   "cell_type": "code",
   "execution_count": 127,
   "id": "86198840",
   "metadata": {},
   "outputs": [],
   "source": [
    "# nn_index = nmslib.init(method='simple_invindx', space='negdotprod_sparse_fast', data_type=nmslib.DataType.SPARSE_VECTOR)\n",
    "# nn_index.addDataPointBatch(my_tfidf_matrix)\n",
    "# nn_index.createIndex()#print_progress=True)"
   ]
  },
  {
   "cell_type": "code",
   "execution_count": 128,
   "id": "0baeb0de",
   "metadata": {},
   "outputs": [],
   "source": [
    "# nn_index = nmslib.init(method='hnsw', space='cosinesimil_sparse_fast', data_type=nmslib.DataType.SPARSE_VECTOR)\n",
    "# nn_index.addDataPointBatch(my_tfidf_matrix)\n",
    "# nn_index.createIndex({'post': 2}, print_progress=True)"
   ]
  },
  {
   "cell_type": "code",
   "execution_count": 129,
   "id": "9b7464d4",
   "metadata": {},
   "outputs": [],
   "source": [
    "# #index = nmslib.init(method='simple_invindx', space='cosinesimil_sparse_fast', data_type=nmslib.DataType.SPARSE_VECTOR)\n",
    "# #index = nmslib.init(method='simple_invindx', space='negdotprod_sparse_fast', data_type=nmslib.DataType.SPARSE_VECTOR)\n",
    "# index = nmslib.init(method='hnsw', space='cosinesimil', data_type=nmslib.DataType.SPARSE_VECTOR)\n",
    "# index.addDataPointBatch(my_tfidf_matrix)\n",
    "# #index.createIndex({'post': 2}, print_progress=True)\n",
    "# index.createIndex(print_progress=True)"
   ]
  },
  {
   "cell_type": "code",
   "execution_count": null,
   "id": "763229df",
   "metadata": {},
   "outputs": [],
   "source": []
  },
  {
   "cell_type": "code",
   "execution_count": 130,
   "id": "f6eb80a9",
   "metadata": {},
   "outputs": [],
   "source": [
    "# my_test_string_list=[' Pimenta ']\n",
    "# my_test_strings_vector=my_TfidfVectorizer.transform(my_test_string_list)\n",
    "#scipy.sparse.csr_matrix.todense(my_test_strings_vector)"
   ]
  },
  {
   "cell_type": "code",
   "execution_count": 131,
   "id": "ac34d9b7",
   "metadata": {},
   "outputs": [],
   "source": [
    "#neighbors=nn_index.knnQueryBatch(my_test_strings_vector,k=100)"
   ]
  },
  {
   "cell_type": "code",
   "execution_count": 132,
   "id": "004208d7",
   "metadata": {},
   "outputs": [],
   "source": [
    "# print(neighbors[0][0])\n",
    "# print(neighbors[0][1])"
   ]
  },
  {
   "cell_type": "code",
   "execution_count": 133,
   "id": "679bc752",
   "metadata": {},
   "outputs": [],
   "source": [
    "# for location in neighbors[0][0]:\n",
    "#     print(my_doc_list[location])\n",
    "# #my_TfidfVectorizer.vocabulary_"
   ]
  },
  {
   "cell_type": "code",
   "execution_count": 134,
   "id": "54f01d4b",
   "metadata": {},
   "outputs": [],
   "source": [
    "#my_TfidfVectorizer.stop_words_"
   ]
  },
  {
   "cell_type": "code",
   "execution_count": 135,
   "id": "1c0dc496",
   "metadata": {},
   "outputs": [],
   "source": [
    "from sklearn.neighbors import NearestNeighbors"
   ]
  },
  {
   "cell_type": "code",
   "execution_count": 136,
   "id": "16d9b23a",
   "metadata": {},
   "outputs": [],
   "source": [
    "my_NN=NearestNeighbors(\n",
    "    n_neighbors=100,\n",
    "    n_jobs=5,\n",
    "    metric='cosine'\n",
    ")"
   ]
  },
  {
   "cell_type": "code",
   "execution_count": 137,
   "id": "a12cf4c1",
   "metadata": {},
   "outputs": [
    {
     "data": {
      "text/html": [
       "<style>#sk-container-id-3 {color: black;background-color: white;}#sk-container-id-3 pre{padding: 0;}#sk-container-id-3 div.sk-toggleable {background-color: white;}#sk-container-id-3 label.sk-toggleable__label {cursor: pointer;display: block;width: 100%;margin-bottom: 0;padding: 0.3em;box-sizing: border-box;text-align: center;}#sk-container-id-3 label.sk-toggleable__label-arrow:before {content: \"▸\";float: left;margin-right: 0.25em;color: #696969;}#sk-container-id-3 label.sk-toggleable__label-arrow:hover:before {color: black;}#sk-container-id-3 div.sk-estimator:hover label.sk-toggleable__label-arrow:before {color: black;}#sk-container-id-3 div.sk-toggleable__content {max-height: 0;max-width: 0;overflow: hidden;text-align: left;background-color: #f0f8ff;}#sk-container-id-3 div.sk-toggleable__content pre {margin: 0.2em;color: black;border-radius: 0.25em;background-color: #f0f8ff;}#sk-container-id-3 input.sk-toggleable__control:checked~div.sk-toggleable__content {max-height: 200px;max-width: 100%;overflow: auto;}#sk-container-id-3 input.sk-toggleable__control:checked~label.sk-toggleable__label-arrow:before {content: \"▾\";}#sk-container-id-3 div.sk-estimator input.sk-toggleable__control:checked~label.sk-toggleable__label {background-color: #d4ebff;}#sk-container-id-3 div.sk-label input.sk-toggleable__control:checked~label.sk-toggleable__label {background-color: #d4ebff;}#sk-container-id-3 input.sk-hidden--visually {border: 0;clip: rect(1px 1px 1px 1px);clip: rect(1px, 1px, 1px, 1px);height: 1px;margin: -1px;overflow: hidden;padding: 0;position: absolute;width: 1px;}#sk-container-id-3 div.sk-estimator {font-family: monospace;background-color: #f0f8ff;border: 1px dotted black;border-radius: 0.25em;box-sizing: border-box;margin-bottom: 0.5em;}#sk-container-id-3 div.sk-estimator:hover {background-color: #d4ebff;}#sk-container-id-3 div.sk-parallel-item::after {content: \"\";width: 100%;border-bottom: 1px solid gray;flex-grow: 1;}#sk-container-id-3 div.sk-label:hover label.sk-toggleable__label {background-color: #d4ebff;}#sk-container-id-3 div.sk-serial::before {content: \"\";position: absolute;border-left: 1px solid gray;box-sizing: border-box;top: 0;bottom: 0;left: 50%;z-index: 0;}#sk-container-id-3 div.sk-serial {display: flex;flex-direction: column;align-items: center;background-color: white;padding-right: 0.2em;padding-left: 0.2em;position: relative;}#sk-container-id-3 div.sk-item {position: relative;z-index: 1;}#sk-container-id-3 div.sk-parallel {display: flex;align-items: stretch;justify-content: center;background-color: white;position: relative;}#sk-container-id-3 div.sk-item::before, #sk-container-id-3 div.sk-parallel-item::before {content: \"\";position: absolute;border-left: 1px solid gray;box-sizing: border-box;top: 0;bottom: 0;left: 50%;z-index: -1;}#sk-container-id-3 div.sk-parallel-item {display: flex;flex-direction: column;z-index: 1;position: relative;background-color: white;}#sk-container-id-3 div.sk-parallel-item:first-child::after {align-self: flex-end;width: 50%;}#sk-container-id-3 div.sk-parallel-item:last-child::after {align-self: flex-start;width: 50%;}#sk-container-id-3 div.sk-parallel-item:only-child::after {width: 0;}#sk-container-id-3 div.sk-dashed-wrapped {border: 1px dashed gray;margin: 0 0.4em 0.5em 0.4em;box-sizing: border-box;padding-bottom: 0.4em;background-color: white;}#sk-container-id-3 div.sk-label label {font-family: monospace;font-weight: bold;display: inline-block;line-height: 1.2em;}#sk-container-id-3 div.sk-label-container {text-align: center;}#sk-container-id-3 div.sk-container {/* jupyter's `normalize.less` sets `[hidden] { display: none; }` but bootstrap.min.css set `[hidden] { display: none !important; }` so we also need the `!important` here to be able to override the default hidden behavior on the sphinx rendered scikit-learn.org. See: https://github.com/scikit-learn/scikit-learn/issues/21755 */display: inline-block !important;position: relative;}#sk-container-id-3 div.sk-text-repr-fallback {display: none;}</style><div id=\"sk-container-id-3\" class=\"sk-top-container\"><div class=\"sk-text-repr-fallback\"><pre>NearestNeighbors(metric=&#x27;cosine&#x27;, n_jobs=5, n_neighbors=100)</pre><b>In a Jupyter environment, please rerun this cell to show the HTML representation or trust the notebook. <br />On GitHub, the HTML representation is unable to render, please try loading this page with nbviewer.org.</b></div><div class=\"sk-container\" hidden><div class=\"sk-item\"><div class=\"sk-estimator sk-toggleable\"><input class=\"sk-toggleable__control sk-hidden--visually\" id=\"sk-estimator-id-3\" type=\"checkbox\" checked><label for=\"sk-estimator-id-3\" class=\"sk-toggleable__label sk-toggleable__label-arrow\">NearestNeighbors</label><div class=\"sk-toggleable__content\"><pre>NearestNeighbors(metric=&#x27;cosine&#x27;, n_jobs=5, n_neighbors=100)</pre></div></div></div></div></div>"
      ],
      "text/plain": [
       "NearestNeighbors(metric='cosine', n_jobs=5, n_neighbors=100)"
      ]
     },
     "execution_count": 137,
     "metadata": {},
     "output_type": "execute_result"
    }
   ],
   "source": [
    "my_NN.fit(my_tfidf_matrix)"
   ]
  },
  {
   "cell_type": "code",
   "execution_count": 138,
   "id": "e5a657cb",
   "metadata": {},
   "outputs": [
    {
     "name": "stdout",
     "output_type": "stream",
     "text": [
      "1.005134105682373\n"
     ]
    }
   ],
   "source": [
    "start=time.time()\n",
    "my_test_string_list=['utero']\n",
    "my_test_strings_vector=my_TfidfVectorizer.transform(my_test_string_list)\n",
    "kn_dist,kn_ind=my_NN.kneighbors(my_test_strings_vector,100)\n",
    "end=time.time()\n",
    "print(end-start)\n"
   ]
  },
  {
   "cell_type": "code",
   "execution_count": 139,
   "id": "4ea9ac1f",
   "metadata": {},
   "outputs": [],
   "source": [
    "# rad_dist,rad_ind=my_NN.radius_neighbors(\n",
    "#     my_test_strings_vector,\n",
    "#     0.99\n",
    "# )\n",
    "# # for location in rad_ind[0]:\n",
    "# #     print(my_doc_list[location])\n",
    "# len(rad_ind[0])"
   ]
  },
  {
   "cell_type": "code",
   "execution_count": 140,
   "id": "c3bc8afa",
   "metadata": {},
   "outputs": [
    {
     "name": "stdout",
     "output_type": "stream",
     "text": [
      "ute\n",
      "uterus\n",
      "uterotrema\n",
      "sutera\n",
      "ero\n",
      "suteria\n",
      "ruteria\n",
      "deuterodon\n",
      "albuterol\n",
      "uteroglobin\n",
      "reuteria\n",
      "deuterotinea\n",
      "deuterogonia\n",
      "deuterocopus\n",
      "deuteronectes\n",
      "deuterophysa\n",
      "aluterus\n",
      "deuterostomes\n",
      "deuterostomia\n",
      "aeronautes\n",
      "cautery\n",
      "reuteroscopus\n",
      "sauteria\n",
      "deuterocopinae\n",
      "buteo\n",
      "deuterium\n",
      "choerodon cauteroma\n",
      "deuterodon heterostomus\n",
      "deuterogoniidae\n",
      "utetes\n",
      "suterilla\n",
      "clenbuterol\n",
      "pouteria\n",
      "butea\n",
      "uteriporus\n",
      "euterpe\n",
      "sauterina\n",
      "deuteromallotus\n",
      "latuterus\n",
      "greuteria\n",
      "aluterus monoceros\n",
      "shuteria\n",
      "euterebra fuscolutea\n",
      "adeneleuterophora\n",
      "deuterollyta\n",
      "mutela\n",
      "aerochoreutes\n",
      "heteropteron\n",
      "plicuteria\n",
      "eutelia\n",
      "paruterina\n",
      "rutela\n",
      "uteriporidae\n",
      "luteolibacter luteus\n",
      "levalbuterol\n",
      "jute\n",
      "reuterella\n",
      "deuterophlebia\n",
      "leutea\n",
      "veronica reuterana\n",
      "deuterocohnia\n",
      "deuterostichococcus\n",
      "zosterops luteus luteus\n",
      "pterocella scutella\n",
      "oxalis suteroides\n",
      "zosterops luteus\n",
      "biuterina\n",
      "basileuterus luteoviridis\n",
      "uteriporinae\n",
      "deuteroxorides\n",
      "uterine artery\n",
      "pluteus lutescens\n",
      "lutein\n",
      "liberonautes\n",
      "louteridium\n",
      "cuterebra\n",
      "euterebra\n",
      "uteopsis\n",
      "euterpina\n",
      "buteo buteo\n",
      "pereute\n",
      "biscutella frutescens\n",
      "aeropedellus reuteri\n",
      "spilopteron luteum\n",
      "deuteroporphyrins\n",
      "deuterocopus sp. anic1\n",
      "luteoma\n",
      "deuterophlebiidae\n",
      "luteibacter\n",
      "neuterthron\n",
      "deuterosminthurus\n",
      "colutea\n",
      "carabus sauteri sauteri\n",
      "lautereria\n",
      "deuterodon pedri\n",
      "deuterocopus sp. anic2\n",
      "pluteus luteus\n",
      "orius sauteri\n",
      "suteria ide\n",
      "paraluteres\n"
     ]
    }
   ],
   "source": [
    "\n",
    "for location in kn_ind[0]:\n",
    "    print(my_doc_list_lower[location])"
   ]
  },
  {
   "cell_type": "code",
   "execution_count": 141,
   "id": "7404ad55",
   "metadata": {},
   "outputs": [],
   "source": [
    "# plt.hist(kn_dist[0],bins=50)\n",
    "# plt.show()"
   ]
  },
  {
   "cell_type": "code",
   "execution_count": 142,
   "id": "e1d7dca5",
   "metadata": {},
   "outputs": [],
   "source": [
    "# kn_dist"
   ]
  },
  {
   "cell_type": "code",
   "execution_count": null,
   "id": "38603b0b",
   "metadata": {},
   "outputs": [],
   "source": []
  },
  {
   "cell_type": "code",
   "execution_count": null,
   "id": "d3767415",
   "metadata": {},
   "outputs": [],
   "source": []
  },
  {
   "cell_type": "code",
   "execution_count": 143,
   "id": "e1d0cb0e",
   "metadata": {},
   "outputs": [],
   "source": [
    "temp_panda=pd.DataFrame.from_dict(\n",
    "    {'a':my_doc_list_lower}\n",
    ")"
   ]
  },
  {
   "cell_type": "code",
   "execution_count": 144,
   "id": "26b516dd",
   "metadata": {},
   "outputs": [
    {
     "data": {
      "text/html": [
       "<div>\n",
       "<style scoped>\n",
       "    .dataframe tbody tr th:only-of-type {\n",
       "        vertical-align: middle;\n",
       "    }\n",
       "\n",
       "    .dataframe tbody tr th {\n",
       "        vertical-align: top;\n",
       "    }\n",
       "\n",
       "    .dataframe thead th {\n",
       "        text-align: right;\n",
       "    }\n",
       "</style>\n",
       "<table border=\"1\" class=\"dataframe\">\n",
       "  <thead>\n",
       "    <tr style=\"text-align: right;\">\n",
       "      <th></th>\n",
       "      <th>a</th>\n",
       "    </tr>\n",
       "  </thead>\n",
       "  <tbody>\n",
       "    <tr>\n",
       "      <th>0</th>\n",
       "      <td>root</td>\n",
       "    </tr>\n",
       "    <tr>\n",
       "      <th>1</th>\n",
       "      <td>bacteria</td>\n",
       "    </tr>\n",
       "    <tr>\n",
       "      <th>2</th>\n",
       "      <td>eubacteria</td>\n",
       "    </tr>\n",
       "    <tr>\n",
       "      <th>3</th>\n",
       "      <td>cellular organisms</td>\n",
       "    </tr>\n",
       "    <tr>\n",
       "      <th>4</th>\n",
       "      <td>azorhizobium</td>\n",
       "    </tr>\n",
       "    <tr>\n",
       "      <th>...</th>\n",
       "      <td>...</td>\n",
       "    </tr>\n",
       "    <tr>\n",
       "      <th>2407939</th>\n",
       "      <td>named groups</td>\n",
       "    </tr>\n",
       "    <tr>\n",
       "      <th>2407940</th>\n",
       "      <td>health care</td>\n",
       "    </tr>\n",
       "    <tr>\n",
       "      <th>2407941</th>\n",
       "      <td>publication characteristics</td>\n",
       "    </tr>\n",
       "    <tr>\n",
       "      <th>2407942</th>\n",
       "      <td>geographicals</td>\n",
       "    </tr>\n",
       "    <tr>\n",
       "      <th>2407943</th>\n",
       "      <td>root</td>\n",
       "    </tr>\n",
       "  </tbody>\n",
       "</table>\n",
       "<p>2407944 rows × 1 columns</p>\n",
       "</div>"
      ],
      "text/plain": [
       "                                   a\n",
       "0                               root\n",
       "1                           bacteria\n",
       "2                         eubacteria\n",
       "3                 cellular organisms\n",
       "4                       azorhizobium\n",
       "...                              ...\n",
       "2407939                 named groups\n",
       "2407940                  health care\n",
       "2407941  publication characteristics\n",
       "2407942                geographicals\n",
       "2407943                         root\n",
       "\n",
       "[2407944 rows x 1 columns]"
      ]
     },
     "execution_count": 144,
     "metadata": {},
     "output_type": "execute_result"
    }
   ],
   "source": [
    "temp_panda"
   ]
  },
  {
   "cell_type": "code",
   "execution_count": 145,
   "id": "cc43940b",
   "metadata": {},
   "outputs": [
    {
     "name": "stdout",
     "output_type": "stream",
     "text": [
      "0.607558012008667\n"
     ]
    }
   ],
   "source": [
    "start=time.time()\n",
    "temp_panda.loc[\n",
    "    temp_panda.a.str.contains('human')\n",
    "]\n",
    "end=time.time()\n",
    "print(end-start)"
   ]
  },
  {
   "cell_type": "code",
   "execution_count": 146,
   "id": "8cc6e55f",
   "metadata": {},
   "outputs": [],
   "source": [
    "#scipy.sparse.csr_matrix.todense(my_test_strings_vector)"
   ]
  },
  {
   "cell_type": "code",
   "execution_count": null,
   "id": "8979c41c",
   "metadata": {},
   "outputs": [],
   "source": []
  },
  {
   "cell_type": "code",
   "execution_count": null,
   "id": "0820a365",
   "metadata": {},
   "outputs": [],
   "source": []
  }
 ],
 "metadata": {
  "kernelspec": {
   "display_name": "Python 3 (ipykernel)",
   "language": "python",
   "name": "python3"
  },
  "language_info": {
   "codemirror_mode": {
    "name": "ipython",
    "version": 3
   },
   "file_extension": ".py",
   "mimetype": "text/x-python",
   "name": "python",
   "nbconvert_exporter": "python",
   "pygments_lexer": "ipython3",
   "version": "3.8.13"
  }
 },
 "nbformat": 4,
 "nbformat_minor": 5
}
