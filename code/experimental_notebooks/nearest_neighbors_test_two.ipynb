{
 "cells": [
  {
   "cell_type": "code",
   "execution_count": 27,
   "id": "7485311d",
   "metadata": {},
   "outputs": [],
   "source": [
    "from nltk.util import trigrams\n",
    "from sklearn.feature_extraction.text import TfidfVectorizer\n",
    "from sklearn.neighbors import NearestNeighbors\n",
    "import json\n",
    "import os\n",
    "import time\n",
    "import pickle"
   ]
  },
  {
   "cell_type": "code",
   "execution_count": 28,
   "id": "d813cb1a",
   "metadata": {},
   "outputs": [],
   "source": [
    "class NNTextSearcher:\n",
    "\n",
    "    def __init__(self,json_base_address):\n",
    "        temp_file_address_list=os.listdir(json_base_address)\n",
    "        temp_file_address_list.sort()\n",
    "        #print(temp_file_list)\n",
    "        temp_file_list=list()\n",
    "        for temp_file in temp_file_address_list:\n",
    "            with open(json_base_address+temp_file,'r') as file_path:\n",
    "                temp_file_list.append(json.load(file_path))\n",
    "\n",
    "        self.total_node_id_dict=dict()\n",
    "        for temp_dict in temp_file_list:\n",
    "            self.total_node_id_dict.update(temp_dict)\n",
    "\n",
    "    def create_tfidf_matrix(self):\n",
    "        self.training_set=[element.lower() for element in self.total_node_id_dict.keys()]\n",
    "        self.TfidfVectorizer=TfidfVectorizer(\n",
    "            analyzer=trigrams,\n",
    "            #max_df=,\n",
    "            #min_df=0.00\n",
    "        )\n",
    "        self.tfidf_matrix=self.TfidfVectorizer.fit_transform(self.training_set)\n",
    "\n",
    "\n",
    "    def create_NN_model(self):\n",
    "        self.NN_model=NearestNeighbors(\n",
    "            n_neighbors=100,\n",
    "            n_jobs=5,\n",
    "            metric='cosine'\n",
    "        )\n",
    "        self.NN_model.fit(self.tfidf_matrix)\n",
    "\n",
    "\n",
    "# if __name__ ==\"__main__\":\n",
    "#     my_NNTextSearcher=NNTextSearcher('../intermediate_results/attribute_node_id_pairs/')\n",
    "#     print(len(my_NNTextSearcher.total_node_id_dict))\n",
    "#     my_NNTextSearcher.create_tfidf_matrix()\n",
    "#     my_NNTextSearcher.create_NN_model()"
   ]
  },
  {
   "cell_type": "code",
   "execution_count": 29,
   "id": "22301632",
   "metadata": {},
   "outputs": [],
   "source": [
    "#/home/rictuar/coding_projects/fiehn_work/binbase_sample_ingester/intermediate_results/attribute_node_id_pairs"
   ]
  },
  {
   "cell_type": "code",
   "execution_count": 30,
   "id": "5ba6c768",
   "metadata": {},
   "outputs": [],
   "source": [
    "my_NNTextSearcher=NNTextSearcher(\n",
    "    '/home/rictuar/coding_projects/fiehn_work/binbase_sample_ingester/intermediate_results/attribute_node_id_pairs/'\n",
    ")"
   ]
  },
  {
   "cell_type": "code",
   "execution_count": 31,
   "id": "45467db3",
   "metadata": {},
   "outputs": [],
   "source": [
    "my_NNTextSearcher.create_tfidf_matrix()"
   ]
  },
  {
   "cell_type": "code",
   "execution_count": 32,
   "id": "fed8ae21",
   "metadata": {},
   "outputs": [
    {
     "data": {
      "text/plain": [
       "69925"
      ]
     },
     "execution_count": 32,
     "metadata": {},
     "output_type": "execute_result"
    }
   ],
   "source": [
    "len(my_NNTextSearcher.TfidfVectorizer.get_feature_names())"
   ]
  },
  {
   "cell_type": "code",
   "execution_count": null,
   "id": "ec1210ab",
   "metadata": {},
   "outputs": [],
   "source": []
  },
  {
   "cell_type": "code",
   "execution_count": null,
   "id": "62540ea3",
   "metadata": {},
   "outputs": [],
   "source": []
  },
  {
   "cell_type": "code",
   "execution_count": null,
   "id": "cedbf0cb",
   "metadata": {},
   "outputs": [],
   "source": []
  },
  {
   "cell_type": "code",
   "execution_count": null,
   "id": "2a3e1cb5",
   "metadata": {},
   "outputs": [],
   "source": []
  }
 ],
 "metadata": {
  "kernelspec": {
   "display_name": "Python 3",
   "language": "python",
   "name": "python3"
  },
  "language_info": {
   "codemirror_mode": {
    "name": "ipython",
    "version": 3
   },
   "file_extension": ".py",
   "mimetype": "text/x-python",
   "name": "python",
   "nbconvert_exporter": "python",
   "pygments_lexer": "ipython3",
   "version": "3.8.8"
  }
 },
 "nbformat": 4,
 "nbformat_minor": 5
}
